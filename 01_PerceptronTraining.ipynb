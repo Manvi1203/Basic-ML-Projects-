{
  "nbformat": 4,
  "nbformat_minor": 0,
  "metadata": {
    "colab": {
      "name": "01_PerceptronTraining.ipynb",
      "provenance": [],
      "toc_visible": true,
      "authorship_tag": "ABX9TyMDlhtdJHbzoQmB847wJej9",
      "include_colab_link": true
    },
    "kernelspec": {
      "name": "python3",
      "display_name": "Python 3"
    },
    "language_info": {
      "name": "python"
    }
  },
  "cells": [
    {
      "cell_type": "markdown",
      "metadata": {
        "id": "view-in-github",
        "colab_type": "text"
      },
      "source": [
        "<a href=\"https://colab.research.google.com/github/Manvi1203/MLnow_GirlScript/blob/main/01_PerceptronTraining.ipynb\" target=\"_parent\"><img src=\"https://colab.research.google.com/assets/colab-badge.svg\" alt=\"Open In Colab\"/></a>"
      ]
    },
    {
      "cell_type": "markdown",
      "metadata": {
        "id": "gVXkVSBsLQna"
      },
      "source": [
        "**Date Created**: May 23 2021\n",
        "\n",
        "Author: [Manvi Gupta]()\n",
        "\n"
      ]
    },
    {
      "cell_type": "code",
      "metadata": {
        "colab": {
          "base_uri": "https://localhost:8080/"
        },
        "id": "kY6niB5gMj_I",
        "outputId": "eab48c85-0f16-4f0d-eab8-216da01e1e95"
      },
      "source": [
        "from google.colab import drive\n",
        "drive.mount('/content/drive')"
      ],
      "execution_count": 2,
      "outputs": [
        {
          "output_type": "stream",
          "text": [
            "Drive already mounted at /content/drive; to attempt to forcibly remount, call drive.mount(\"/content/drive\", force_remount=True).\n"
          ],
          "name": "stdout"
        }
      ]
    },
    {
      "cell_type": "markdown",
      "metadata": {
        "id": "dkUSmfdULzFV"
      },
      "source": [
        "#Problem Statement\n",
        "Train your model to predict to learn the table of 10\n",
        "\n",
        "`y=10*x`\n",
        "\n",
        "\n",
        "Target Data\n",
        "\n",
        "x ={0,1,2,3,4,5.....}\n",
        "\n",
        "y ={0,10,20,30,40,50.....}\n",
        "\n",
        "\n",
        "\n"
      ]
    },
    {
      "cell_type": "code",
      "metadata": {
        "colab": {
          "base_uri": "https://localhost:8080/"
        },
        "id": "ZrLxyDlRIPbS",
        "outputId": "5bad3412-fa77-4f96-a72f-1619a233aaf8"
      },
      "source": [
        "x=[i for i in range(21)] #List Comprehension\n",
        "print(x)"
      ],
      "execution_count": null,
      "outputs": [
        {
          "output_type": "stream",
          "text": [
            "[0, 1, 2, 3, 4, 5, 6, 7, 8, 9, 10, 11, 12, 13, 14, 15, 16, 17, 18, 19, 20]\n"
          ],
          "name": "stdout"
        }
      ]
    },
    {
      "cell_type": "code",
      "metadata": {
        "colab": {
          "base_uri": "https://localhost:8080/"
        },
        "id": "MX7xSLUqOedu",
        "outputId": "111a20c1-8da9-4eb0-8102-1936d31c67a7"
      },
      "source": [
        "y=[i for i  in range(201) if(i%10==0)]\n",
        "print(y)"
      ],
      "execution_count": null,
      "outputs": [
        {
          "output_type": "stream",
          "text": [
            "[0, 10, 20, 30, 40, 50, 60, 70, 80, 90, 100, 110, 120, 130, 140, 150, 160, 170, 180, 190, 200]\n"
          ],
          "name": "stdout"
        }
      ]
    },
    {
      "cell_type": "code",
      "metadata": {
        "id": "3ImViRGULBs8"
      },
      "source": [
        ""
      ],
      "execution_count": null,
      "outputs": []
    },
    {
      "cell_type": "markdown",
      "metadata": {
        "id": "fATLSXY8L3uV"
      },
      "source": [
        "#Approach 1\n",
        "\n",
        "Defining a function for the equation y=10x \n",
        "\n",
        "\n"
      ]
    },
    {
      "cell_type": "code",
      "metadata": {
        "colab": {
          "base_uri": "https://localhost:8080/"
        },
        "id": "NoQH4hZkMOJO",
        "outputId": "4150e345-edf9-49c4-8616-b18aee8e1d49"
      },
      "source": [
        "def tableofTen(x):\n",
        " y=10*x\n",
        " return y\n",
        "\n",
        "for value in x:\n",
        " print(tableofTen(value))"
      ],
      "execution_count": null,
      "outputs": [
        {
          "output_type": "stream",
          "text": [
            "0\n",
            "10\n",
            "20\n",
            "30\n",
            "40\n",
            "50\n",
            "60\n",
            "70\n",
            "80\n",
            "90\n",
            "100\n",
            "110\n",
            "120\n",
            "130\n",
            "140\n",
            "150\n",
            "160\n",
            "170\n",
            "180\n",
            "190\n",
            "200\n"
          ],
          "name": "stdout"
        }
      ]
    },
    {
      "cell_type": "markdown",
      "metadata": {
        "id": "S_Rf4aLePX2p"
      },
      "source": [
        "#Approach 2\n",
        "Im super excited about ML so Im gonna make a redundant ML model for the table of 10"
      ]
    },
    {
      "cell_type": "markdown",
      "metadata": {
        "id": "g7Q1POitPlWy"
      },
      "source": [
        "Youre going to need `xTrain`, `yTrain`, `xTest`, `yTest` from the `x` and `y` lists"
      ]
    },
    {
      "cell_type": "code",
      "metadata": {
        "colab": {
          "base_uri": "https://localhost:8080/"
        },
        "id": "Q4IhWD8oQDvj",
        "outputId": "d3f25afa-39d4-4ef1-89cf-e53a30fa139b"
      },
      "source": [
        "print(f'This is x: {x}')\n",
        "print(f'This is y: {y}')"
      ],
      "execution_count": null,
      "outputs": [
        {
          "output_type": "stream",
          "text": [
            "This is x: [0, 1, 2, 3, 4, 5, 6, 7, 8, 9, 10, 11, 12, 13, 14, 15, 16, 17, 18, 19, 20]\n",
            "This is y: [0, 10, 20, 30, 40, 50, 60, 70, 80, 90, 100, 110, 120, 130, 140, 150, 160, 170, 180, 190, 200]\n"
          ],
          "name": "stdout"
        }
      ]
    },
    {
      "cell_type": "code",
      "metadata": {
        "colab": {
          "base_uri": "https://localhost:8080/"
        },
        "id": "RE5CywqvRn_5",
        "outputId": "66bae80a-250f-4dd7-db7d-7360910e0b8e"
      },
      "source": [
        "print(y[:-5])"
      ],
      "execution_count": null,
      "outputs": [
        {
          "output_type": "stream",
          "text": [
            "[0, 10, 20, 30, 40, 50, 60, 70, 80, 90, 100, 110, 120, 130, 140, 150]\n"
          ],
          "name": "stdout"
        }
      ]
    }
  ]
}