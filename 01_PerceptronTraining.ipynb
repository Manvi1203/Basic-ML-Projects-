{
  "nbformat": 4,
  "nbformat_minor": 0,
  "metadata": {
    "colab": {
      "name": "01_PerceptronTraining.ipynb",
      "provenance": [],
      "toc_visible": true,
      "authorship_tag": "ABX9TyOsZzSHVZkjVTUZkby3GcLI",
      "include_colab_link": true
    },
    "kernelspec": {
      "name": "python3",
      "display_name": "Python 3"
    },
    "language_info": {
      "name": "python"
    }
  },
  "cells": [
    {
      "cell_type": "markdown",
      "metadata": {
        "id": "view-in-github",
        "colab_type": "text"
      },
      "source": [
        "<a href=\"https://colab.research.google.com/github/Manvi1203/MLnow_GirlScript/blob/main/01_PerceptronTraining.ipynb\" target=\"_parent\"><img src=\"https://colab.research.google.com/assets/colab-badge.svg\" alt=\"Open In Colab\"/></a>"
      ]
    },
    {
      "cell_type": "markdown",
      "metadata": {
        "id": "gVXkVSBsLQna"
      },
      "source": [
        "**Date Created**: May 23 2021\n",
        "\n",
        "Author: [Manvi Gupta]()\n",
        "\n"
      ]
    },
    {
      "cell_type": "code",
      "metadata": {
        "colab": {
          "base_uri": "https://localhost:8080/"
        },
        "id": "kY6niB5gMj_I",
        "outputId": "7318556d-94a3-4a66-b9f0-0d979107d9bd"
      },
      "source": [
        "from google.colab import drive\n",
        "drive.mount('/content/drive')"
      ],
      "execution_count": 28,
      "outputs": [
        {
          "output_type": "stream",
          "text": [
            "Drive already mounted at /content/drive; to attempt to forcibly remount, call drive.mount(\"/content/drive\", force_remount=True).\n"
          ],
          "name": "stdout"
        }
      ]
    },
    {
      "cell_type": "markdown",
      "metadata": {
        "id": "dkUSmfdULzFV"
      },
      "source": [
        "#Problem Statement\n",
        "Train your model to predict to learn the table of 10\n",
        "\n",
        "`y=10*x`\n",
        "\n",
        "\n",
        "Target Data\n",
        "\n",
        "x ={0,1,2,3,4,5.....}\n",
        "\n",
        "y ={0,10,20,30,40,50.....}\n",
        "\n",
        "\n",
        "\n"
      ]
    },
    {
      "cell_type": "code",
      "metadata": {
        "colab": {
          "base_uri": "https://localhost:8080/"
        },
        "id": "ZrLxyDlRIPbS",
        "outputId": "962c4743-e64d-4e70-e4a7-85e50fbe25c8"
      },
      "source": [
        "x=[i for i in range(21)] #List Comprehension\n",
        "print(x)"
      ],
      "execution_count": 29,
      "outputs": [
        {
          "output_type": "stream",
          "text": [
            "[0, 1, 2, 3, 4, 5, 6, 7, 8, 9, 10, 11, 12, 13, 14, 15, 16, 17, 18, 19, 20]\n"
          ],
          "name": "stdout"
        }
      ]
    },
    {
      "cell_type": "code",
      "metadata": {
        "colab": {
          "base_uri": "https://localhost:8080/"
        },
        "id": "MX7xSLUqOedu",
        "outputId": "7d6efea0-9d8d-42bd-c432-101034b62461"
      },
      "source": [
        "y=[i for i  in range(201) if(i%10==0)]\n",
        "print(y)"
      ],
      "execution_count": 30,
      "outputs": [
        {
          "output_type": "stream",
          "text": [
            "[0, 10, 20, 30, 40, 50, 60, 70, 80, 90, 100, 110, 120, 130, 140, 150, 160, 170, 180, 190, 200]\n"
          ],
          "name": "stdout"
        }
      ]
    },
    {
      "cell_type": "code",
      "metadata": {
        "id": "3ImViRGULBs8"
      },
      "source": [
        ""
      ],
      "execution_count": 30,
      "outputs": []
    },
    {
      "cell_type": "markdown",
      "metadata": {
        "id": "fATLSXY8L3uV"
      },
      "source": [
        "#Approach 1\n",
        "\n",
        "Defining a function for the equation y=10x \n",
        "\n",
        "\n"
      ]
    },
    {
      "cell_type": "code",
      "metadata": {
        "colab": {
          "base_uri": "https://localhost:8080/"
        },
        "id": "NoQH4hZkMOJO",
        "outputId": "210c72f5-c35f-4c29-e55a-c684a9f862f7"
      },
      "source": [
        "def tableofTen(x):\n",
        " y=10*x\n",
        " return y\n",
        "\n",
        "for value in x:\n",
        " print(tableofTen(value))"
      ],
      "execution_count": 31,
      "outputs": [
        {
          "output_type": "stream",
          "text": [
            "0\n",
            "10\n",
            "20\n",
            "30\n",
            "40\n",
            "50\n",
            "60\n",
            "70\n",
            "80\n",
            "90\n",
            "100\n",
            "110\n",
            "120\n",
            "130\n",
            "140\n",
            "150\n",
            "160\n",
            "170\n",
            "180\n",
            "190\n",
            "200\n"
          ],
          "name": "stdout"
        }
      ]
    },
    {
      "cell_type": "markdown",
      "metadata": {
        "id": "S_Rf4aLePX2p"
      },
      "source": [
        "#Approach 2\n",
        " Im gonna make a redundant ML model for the table of 10"
      ]
    },
    {
      "cell_type": "markdown",
      "metadata": {
        "id": "g7Q1POitPlWy"
      },
      "source": [
        "Youre going to need `xTrain`, `yTrain`, `xTest`, `yTest` from the `x` and `y` lists"
      ]
    },
    {
      "cell_type": "code",
      "metadata": {
        "colab": {
          "base_uri": "https://localhost:8080/"
        },
        "id": "Q4IhWD8oQDvj",
        "outputId": "36734362-1068-48d3-92d0-9ec32d23d8af"
      },
      "source": [
        "print(f'This is x: {x}')\n",
        "print(f'This is y: {y}')"
      ],
      "execution_count": 32,
      "outputs": [
        {
          "output_type": "stream",
          "text": [
            "This is x: [0, 1, 2, 3, 4, 5, 6, 7, 8, 9, 10, 11, 12, 13, 14, 15, 16, 17, 18, 19, 20]\n",
            "This is y: [0, 10, 20, 30, 40, 50, 60, 70, 80, 90, 100, 110, 120, 130, 140, 150, 160, 170, 180, 190, 200]\n"
          ],
          "name": "stdout"
        }
      ]
    },
    {
      "cell_type": "code",
      "metadata": {
        "colab": {
          "base_uri": "https://localhost:8080/"
        },
        "id": "lALnD9pUW4s4",
        "outputId": "7bafe17a-56b8-49d0-a685-2386fd39f8ca"
      },
      "source": [
        "print(x[-5:])"
      ],
      "execution_count": 33,
      "outputs": [
        {
          "output_type": "stream",
          "text": [
            "[16, 17, 18, 19, 20]\n"
          ],
          "name": "stdout"
        }
      ]
    },
    {
      "cell_type": "code",
      "metadata": {
        "colab": {
          "base_uri": "https://localhost:8080/"
        },
        "id": "RE5CywqvRn_5",
        "outputId": "851cf01e-aa1f-4244-9468-5ff664678898"
      },
      "source": [
        "xTrain = x[:-5] #Training Data\n",
        "yTrain = y[:-5] #Training Labels\n",
        "\n",
        "xTest = x[-5:] #Testing Data\n",
        "yTest = y[-5:] #Testing Labels\n",
        "\n",
        "print(f'''\n",
        "Training Data:\n",
        "\n",
        "xTrain = {xTrain}\n",
        "yTrain = {yTrain}\n",
        "\n",
        "Testing Data:\n",
        "\n",
        "xTest = {xTest}\n",
        "yTest = {yTest}\n",
        "''')"
      ],
      "execution_count": 34,
      "outputs": [
        {
          "output_type": "stream",
          "text": [
            "\n",
            "Training Data:\n",
            "\n",
            "xTrain = [0, 1, 2, 3, 4, 5, 6, 7, 8, 9, 10, 11, 12, 13, 14, 15]\n",
            "yTrain = [0, 10, 20, 30, 40, 50, 60, 70, 80, 90, 100, 110, 120, 130, 140, 150]\n",
            "\n",
            "Testing Data:\n",
            "\n",
            "xTest = [16, 17, 18, 19, 20]\n",
            "yTest = [160, 170, 180, 190, 200]\n",
            "\n"
          ],
          "name": "stdout"
        }
      ]
    },
    {
      "cell_type": "code",
      "metadata": {
        "id": "11wXIIHHYa5H"
      },
      "source": [
        "import tensorflow as tf\n",
        "from tensorflow import keras"
      ],
      "execution_count": 40,
      "outputs": []
    },
    {
      "cell_type": "code",
      "metadata": {
        "id": "CMWA3m18Ym6r"
      },
      "source": [
        "#perceptron model\n",
        "\n",
        "model = tf.keras.Sequential([\n",
        "                             tf.keras.layers.Dense(units=1, input_shape=[1]) #units is the number of neurons and input_shape is the shape of the input to the neuron\n",
        "\n",
        "])"
      ],
      "execution_count": 41,
      "outputs": []
    },
    {
      "cell_type": "markdown",
      "metadata": {
        "id": "kMZFsYFfhjV-"
      },
      "source": [
        "h(xTrain)=[....]\n",
        "yTrain=[]\n",
        "\n",
        "length of yTrain:\n",
        "n=len(yTrain)\n",
        "\n",
        "MAE=((xTrain_i)-h(xTrain_i))/n"
      ]
    },
    {
      "cell_type": "code",
      "metadata": {
        "id": "KQPTHNmGap73"
      },
      "source": [
        "model.compile(optimizer='adam', loss='mae') #optimizers ---> sgd, rmsprop, adamax , adagrad; loss---> mse or mae(because this is regression)\n"
      ],
      "execution_count": 42,
      "outputs": []
    },
    {
      "cell_type": "code",
      "metadata": {
        "id": "8dant5PmdGsH"
      },
      "source": [
        "model.fit(x=xTrain, y=yTrain, validation_data=(xTrain, yTrain), epochs=5000)\n"
      ],
      "execution_count": null,
      "outputs": []
    },
    {
      "cell_type": "markdown",
      "metadata": {
        "id": "ru4wqrHhjh3t"
      },
      "source": [
        "`val_loss` and `loss` can be analogous to `J(x)` or your cost function"
      ]
    },
    {
      "cell_type": "code",
      "metadata": {
        "id": "OqRbLTrOiKq5"
      },
      "source": [
        ""
      ],
      "execution_count": null,
      "outputs": []
    }
  ]
}